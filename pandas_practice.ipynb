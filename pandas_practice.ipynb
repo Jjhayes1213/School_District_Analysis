{
 "cells": [
  {
   "cell_type": "code",
   "execution_count": null,
   "id": "5638b3de",
   "metadata": {},
   "outputs": [],
   "source": [
    "#List of high schools"
   ]
  },
  {
   "cell_type": "code",
   "execution_count": null,
   "id": "18fbc813",
   "metadata": {},
   "outputs": [],
   "source": [
    "#high_schools = [\"Hernandez High School\", \"Figueroa High School\", \"wilson High School\"]"
   ]
  },
  {
   "cell_type": "code",
   "execution_count": null,
   "id": "9717a62c",
   "metadata": {},
   "outputs": [],
   "source": [
    "high_schools = [\"Huang Jigh School\",\"Figueroa High School\", \"Shelton High School\",\"Hernandez High School\", \"Griffin High School\", \"Wilson High School\", \"Cabrera High School\", \"Baily High School\", \"Holden High School\", \"Pena High School\", \"Wright High School\", \"Rodriguez High School\", \"Johnson High School\", \"Ford High School\", \"Thomas High School\"]"
   ]
  },
  {
   "cell_type": "code",
   "execution_count": null,
   "id": "5c89ae2b",
   "metadata": {},
   "outputs": [],
   "source": [
    "for school in high_schools:"
   ]
  },
  {
   "cell_type": "code",
   "execution_count": null,
   "id": "68e1f0ba",
   "metadata": {},
   "outputs": [],
   "source": [
    "    print(school)"
   ]
  },
  {
   "cell_type": "code",
   "execution_count": null,
   "id": "16e8121e",
   "metadata": {},
   "outputs": [],
   "source": [
    "#A dictionary of high schools and the type of schoool."
   ]
  },
  {
   "cell_type": "code",
   "execution_count": null,
   "id": "635aa0b3",
   "metadata": {},
   "outputs": [],
   "source": [
    "#high_school_types = [{\"High School\": \"Griffin\", \"Type\": \"District\"},\n",
    "                    {\"High School\": \"Figeueroa\", \"Type\": \"District\"},\n",
    "                    {\"High School\": \"Wilson\", \"Type\": \"Charter\"},\n",
    "                    {\"High School\": \"Wright\", \"Type\": \"Charter\"}]"
   ]
  },
  {
   "cell_type": "code",
   "execution_count": null,
   "id": "0bfe7d8e",
   "metadata": {},
   "outputs": [],
   "source": [
    "#A dictionary of high schools "
   ]
  },
  {
   "cell_type": "code",
   "execution_count": null,
   "id": "fb796a66",
   "metadata": {},
   "outputs": [],
   "source": [
    "#high_school_dicts = [{\"School ID\": 0, \"School name\": \"Huang High School\", \"Type\": \"District\"},\n",
    "                    {\"School ID\": 1, \"School name\":\"Figeueroa High School\", \"Type\": \"District\"},\n",
    "                    {\"School ID\": 2, \"School name\": \"Shelton High School\", \"Type\": \"Charter\"},\n",
    "                    {\"School ID\": 3, \"School name\":  \"Hernandez High School\", \"Type\": \"District\"}\n",
    "                    {\"School ID\": 4, \"School name\": \"Griffin High School\", \"Type\": \"Charter\"}]"
   ]
  },
  {
   "cell_type": "code",
   "execution_count": null,
   "id": "c15d8a3b",
   "metadata": {},
   "outputs": [],
   "source": [
    "#Create a data frame"
   ]
  },
  {
   "cell_type": "code",
   "execution_count": null,
   "id": "9365dbd4",
   "metadata": {},
   "outputs": [],
   "source": [
    "school_df = pd.Dataframe(high_school_dicts)"
   ]
  },
  {
   "cell_type": "code",
   "execution_count": null,
   "id": "94fcc63b",
   "metadata": {},
   "outputs": [],
   "source": [
    "School_df"
   ]
  },
  {
   "cell_type": "code",
   "execution_count": null,
   "id": "1efaf56e",
   "metadata": {},
   "outputs": [],
   "source": [
    "#Add the Pandas dependency."
   ]
  },
  {
   "cell_type": "code",
   "execution_count": null,
   "id": "f152d57e",
   "metadata": {},
   "outputs": [],
   "source": [
    "import pandas as pd"
   ]
  },
  {
   "cell_type": "code",
   "execution_count": null,
   "id": "fe4e6eef",
   "metadata": {},
   "outputs": [],
   "source": [
    "#Create a Pandas Series from a list."
   ]
  },
  {
   "cell_type": "code",
   "execution_count": null,
   "id": "5c9cf2ed",
   "metadata": {},
   "outputs": [],
   "source": [
    "school_series = pd.series(high_schools)"
   ]
  },
  {
   "cell_type": "code",
   "execution_count": null,
   "id": "94e6bb16",
   "metadata": {},
   "outputs": [],
   "source": [
    "school_series"
   ]
  },
  {
   "cell_type": "code",
   "execution_count": null,
   "id": "c1ee9e1c",
   "metadata": {},
   "outputs": [],
   "source": [
    "#Three seperate lists of information on high schools"
   ]
  },
  {
   "cell_type": "code",
   "execution_count": null,
   "id": "6c02383d",
   "metadata": {},
   "outputs": [],
   "source": [
    "school_id + [0, 1, 2, 3, 4]"
   ]
  },
  {
   "cell_type": "code",
   "execution_count": null,
   "id": "fe20cfe5",
   "metadata": {},
   "outputs": [],
   "source": [
    "school_name = [\"Huand High School\", \"Figueroa High School\", \"Shelton High School\", \"Hernandez High School\", \"Griffin High School\"]"
   ]
  },
  {
   "cell_type": "code",
   "execution_count": null,
   "id": "7107ea8b",
   "metadata": {},
   "outputs": [],
   "source": [
    "type_of_school = [District\", \"District\", \"Charter\", \"District\",\"Charter\"]"
   ]
  },
  {
   "cell_type": "code",
   "execution_count": null,
   "id": "6265054e",
   "metadata": {},
   "outputs": [],
   "source": [
    "#Initialize a new Dataframe."
   ]
  },
  {
   "cell_type": "code",
   "execution_count": null,
   "id": "e3a4578d",
   "metadata": {},
   "outputs": [],
   "source": [
    "schools_df = pd.DataFrame()"
   ]
  },
  {
   "cell_type": "code",
   "execution_count": null,
   "id": "1f4177b8",
   "metadata": {},
   "outputs": [],
   "source": [
    "#Add the list to a new Dataframe."
   ]
  },
  {
   "cell_type": "code",
   "execution_count": null,
   "id": "2e9d2d16",
   "metadata": {},
   "outputs": [],
   "source": [
    "schools_df[\"School ID\"] = school_id"
   ]
  },
  {
   "cell_type": "code",
   "execution_count": null,
   "id": "6f43312a",
   "metadata": {},
   "outputs": [],
   "source": [
    "#Print the Dataframe."
   ]
  },
  {
   "cell_type": "code",
   "execution_count": null,
   "id": "baca75ca",
   "metadata": {},
   "outputs": [],
   "source": [
    "schools_df"
   ]
  },
  {
   "cell_type": "code",
   "execution_count": null,
   "id": "458b81e5",
   "metadata": {},
   "outputs": [],
   "source": [
    "#Index(['School ID', 'school_name', 'type'], dtype='object')"
   ]
  },
  {
   "cell_type": "code",
   "execution_count": null,
   "id": "47f2436b",
   "metadata": {},
   "outputs": [],
   "source": [
    "#school_df.index"
   ]
  }
 ],
 "metadata": {
  "kernelspec": {
   "display_name": "PythonData",
   "language": "python",
   "name": "pythondata"
  },
  "language_info": {
   "codemirror_mode": {
    "name": "ipython",
    "version": 3
   },
   "file_extension": ".py",
   "mimetype": "text/x-python",
   "name": "python",
   "nbconvert_exporter": "python",
   "pygments_lexer": "ipython3",
   "version": "3.7.11"
  }
 },
 "nbformat": 4,
 "nbformat_minor": 5
}
